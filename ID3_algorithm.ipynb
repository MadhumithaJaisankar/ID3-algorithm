{
 "cells": [
  {
   "cell_type": "code",
   "execution_count": 2,
   "id": "f6216b36",
   "metadata": {},
   "outputs": [],
   "source": [
    "import numpy as np\n"
   ]
  },
  {
   "cell_type": "code",
   "execution_count": 3,
   "id": "29a04249",
   "metadata": {},
   "outputs": [],
   "source": [
    "class TreeNode:\n",
    "    def __init__(self, feature=None, value=None, leaf_class=None):\n",
    "        self.feature = feature\n",
    "        self.value = value\n",
    "        self.leaf_class = leaf_class\n",
    "        self.children = {}\n",
    "\n",
    "    def add_child(self, value, child):\n",
    "        self.children[value] = child"
   ]
  },
  {
   "cell_type": "code",
   "execution_count": 4,
   "id": "7fd7825a",
   "metadata": {},
   "outputs": [],
   "source": [
    "def entropy(y):\n",
    "    classes, counts = np.unique(y, return_counts=True)\n",
    "    entropy = 0\n",
    "    total_samples = len(y)\n",
    "    for count in counts:\n",
    "        p = count / total_samples\n",
    "        entropy -= p * np.log2(p)\n",
    "    return entropy"
   ]
  },
  {
   "cell_type": "code",
   "execution_count": 5,
   "id": "a43d3f10",
   "metadata": {},
   "outputs": [],
   "source": [
    "def information_gain(X, y, feature_idx):\n",
    "    total_entropy = entropy(y)\n",
    "    feature_values, counts = np.unique(X[:, feature_idx], return_counts=True)\n",
    "    weighted_entropy = 0\n",
    "    total_samples = len(y)\n",
    "    for value, count in zip(feature_values, counts):\n",
    "        subset_y = y[X[:, feature_idx] == value]\n",
    "        weighted_entropy += (count / total_samples) * entropy(subset_y)\n",
    "    return total_entropy - weighted_entropy"
   ]
  },
  {
   "cell_type": "code",
   "execution_count": 6,
   "id": "caed432e",
   "metadata": {},
   "outputs": [],
   "source": [
    "def id3(X, y, features):\n",
    "    if len(set(y)) == 1:\n",
    "        return TreeNode(leaf_class=y[0])\n",
    "    if len(features) == 0:\n",
    "        return TreeNode(leaf_class=np.argmax(np.bincount(y)))\n",
    "\n",
    "    best_feature_idx = max(features, key=lambda feature_idx: information_gain(X, y, feature_idx))\n",
    "    best_feature_values = np.unique(X[:, best_feature_idx])\n",
    "\n",
    "    root = TreeNode(feature=best_feature_idx)\n",
    "\n",
    "    new_features = [feature for feature in features if feature != best_feature_idx]\n",
    "\n",
    "    for value in best_feature_values:\n",
    "        subset_X = X[X[:, best_feature_idx] == value]\n",
    "        subset_y = y[X[:, best_feature_idx] == value]\n",
    "        child_node = id3(subset_X, subset_y, new_features)\n",
    "        root.add_child(value, child_node)\n",
    "\n",
    "    return root"
   ]
  },
  {
   "cell_type": "code",
   "execution_count": 7,
   "id": "26e0a141",
   "metadata": {},
   "outputs": [],
   "source": [
    "def predict(tree, x):\n",
    "    if tree.leaf_class is not None:\n",
    "        return tree.leaf_class\n",
    "    value = x[tree.feature]\n",
    "    if value in tree.children:\n",
    "        return predict(tree.children[value], x)\n",
    "    else:\n",
    "        return np.argmax(np.bincount(y))"
   ]
  },
  {
   "cell_type": "code",
   "execution_count": 36,
   "id": "cc06a27c",
   "metadata": {},
   "outputs": [],
   "source": [
    "# Example usage:\n",
    "data = np.array([\n",
    "    ['Sunny', 'Hot','Weak', 'No'],\n",
    "    ['Sunny', 'Hot','Strong', 'No'],\n",
    "    ['Overcast', 'Hot','Weak', 'Yes'],\n",
    "    ['Rainy', 'Mild','Weak','Yes'],\n",
    "    ['Rainy', 'Cool','Weak', 'Yes'],\n",
    "    ['Rainy','Cool','Strong','No'],\n",
    "    ['Overcast','Cool','Strong','Yes'],\n",
    "    ['Sunny','Mild','Weak','No'],\n",
    "    ['Sunny','Cool','Weak','Yes'],\n",
    "    ['Rainy','Mild','Weak','Yes'],\n",
    "    ['Sunny','Mild','Strong','Yes'],\n",
    "    ['Overcast','Mild','Strong','Yes'],\n",
    "    ['Overcast','Hot','Weak','Yes'],\n",
    "    ['Rainy','Mild','Storng','No'],\n",
    "])\n",
    "\n",
    "X = data[:, :-1]\n",
    "y = np.array([1 if label == 'Yes' else 0 for label in data[:, -1]])\n",
    "\n",
    "features = list(range(X.shape[1]))\n",
    "\n",
    "tree = id3(X, y, features)\n",
    "\n"
   ]
  },
  {
   "cell_type": "code",
   "execution_count": 44,
   "id": "8bac8239",
   "metadata": {},
   "outputs": [],
   "source": [
    "# Predict on new data\n",
    "new_data = np.array([\n",
    "    ['Overcast', 'Mild','Strong'],\n",
    "    ['Rainy', 'Hot','Strong'],\n",
    "])"
   ]
  },
  {
   "cell_type": "code",
   "execution_count": 45,
   "id": "2226444c",
   "metadata": {},
   "outputs": [
    {
     "name": "stdout",
     "output_type": "stream",
     "text": [
      "Prediction for ['Overcast' 'Mild' 'Strong']: yes\n",
      "Prediction for ['Rainy' 'Hot' 'Strong']: no\n"
     ]
    }
   ],
   "source": [
    "for sample in new_data:\n",
    "    print(f\"Prediction for {sample}: {'yes' if predict(tree, sample) == 1 else 'no'}\")\n"
   ]
  },
  {
   "cell_type": "code",
   "execution_count": 39,
   "id": "da338c64",
   "metadata": {},
   "outputs": [
    {
     "name": "stdout",
     "output_type": "stream",
     "text": [
      "0\n",
      "|__ Overcast\n",
      "|   Predict: 1\n",
      "|__ Rainy\n",
      "|   2\n",
      "|   |__ Storng\n",
      "|   |   Predict: 0\n",
      "|   |__ Strong\n",
      "|   |   Predict: 0\n",
      "|   |__ Weak\n",
      "|   |   Predict: 1\n",
      "|__ Sunny\n",
      "|   1\n",
      "|   |__ Cool\n",
      "|   |   Predict: 1\n",
      "|   |__ Hot\n",
      "|   |   Predict: 0\n",
      "|   |__ Mild\n",
      "|   |   2\n",
      "|   |   |__ Strong\n",
      "|   |   |   Predict: 1\n",
      "|   |   |__ Weak\n",
      "|   |   |   Predict: 0\n"
     ]
    }
   ],
   "source": [
    "def print_tree(tree, indent=''):\n",
    "    if tree.leaf_class is not None:\n",
    "        print(indent + 'Predict:', tree.leaf_class)\n",
    "    else:\n",
    "        print(indent + str(tree.feature))\n",
    "        for value, child in tree.children.items():\n",
    "            print(indent + '|__ ' + str(value))\n",
    "            print_tree(child, indent + '|   ')\n",
    "\n",
    "# Usage Example\n",
    "print_tree(tree)\n"
   ]
  }
 ],
 "metadata": {
  "kernelspec": {
   "display_name": "Python 3",
   "language": "python",
   "name": "python3"
  },
  "language_info": {
   "codemirror_mode": {
    "name": "ipython",
    "version": 3
   },
   "file_extension": ".py",
   "mimetype": "text/x-python",
   "name": "python",
   "nbconvert_exporter": "python",
   "pygments_lexer": "ipython3",
   "version": "3.8.8"
  }
 },
 "nbformat": 4,
 "nbformat_minor": 5
}
